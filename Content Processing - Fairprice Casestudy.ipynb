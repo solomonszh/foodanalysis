{
 "cells": [
  {
   "cell_type": "markdown",
   "metadata": {},
   "source": [
    "# Data "
   ]
  },
  {
   "cell_type": "code",
   "execution_count": 2,
   "metadata": {
    "ExecuteTime": {
     "end_time": "2020-02-06T06:24:06.859454Z",
     "start_time": "2020-02-06T06:23:57.783043Z"
    }
   },
   "outputs": [],
   "source": [
    "import pandas as pd\n",
    "import numpy as np"
   ]
  },
  {
   "cell_type": "code",
   "execution_count": 4,
   "metadata": {
    "ExecuteTime": {
     "end_time": "2020-02-06T07:16:17.518981Z",
     "start_time": "2020-02-06T07:16:17.498804Z"
    }
   },
   "outputs": [],
   "source": [
    "fairprice_data = pd.read_csv(r\"C:\\Users\\User\\Desktop\\Fresh\\YoRipe\\Fairprice\\fairprice_output.csv\")"
   ]
  },
  {
   "cell_type": "code",
   "execution_count": 5,
   "metadata": {},
   "outputs": [
    {
     "data": {
      "text/html": [
       "<div>\n",
       "<style scoped>\n",
       "    .dataframe tbody tr th:only-of-type {\n",
       "        vertical-align: middle;\n",
       "    }\n",
       "\n",
       "    .dataframe tbody tr th {\n",
       "        vertical-align: top;\n",
       "    }\n",
       "\n",
       "    .dataframe thead th {\n",
       "        text-align: right;\n",
       "    }\n",
       "</style>\n",
       "<table border=\"1\" class=\"dataframe\">\n",
       "  <thead>\n",
       "    <tr style=\"text-align: right;\">\n",
       "      <th></th>\n",
       "      <th>Unnamed: 0</th>\n",
       "      <th>urls</th>\n",
       "      <th>recipename</th>\n",
       "      <th>servings</th>\n",
       "      <th>preptime</th>\n",
       "      <th>ingredients</th>\n",
       "      <th>instructions</th>\n",
       "      <th>level_of_difficulty</th>\n",
       "      <th>image_url</th>\n",
       "      <th>video_url</th>\n",
       "    </tr>\n",
       "  </thead>\n",
       "  <tbody>\n",
       "    <tr>\n",
       "      <td>0</td>\n",
       "      <td>0</td>\n",
       "      <td>https://www.fairprice.com.sg/recipes/fragrant-...</td>\n",
       "      <td>Fragrant Bitter Gourd Chicken</td>\n",
       "      <td>8 pax</td>\n",
       "      <td>20 mins</td>\n",
       "      <td>1 Pasar Jumbo Fresh Chicken*\\n2 pcs Lotus Leav...</td>\n",
       "      <td>Remove spare parts from chicken cavity. Rinse ...</td>\n",
       "      <td>Easy</td>\n",
       "      <td>NaN</td>\n",
       "      <td>https://www.youtube.com/embed/kEu3FM0fkpo</td>\n",
       "    </tr>\n",
       "    <tr>\n",
       "      <td>1</td>\n",
       "      <td>1</td>\n",
       "      <td>https://www.fairprice.com.sg/recipes/treasured...</td>\n",
       "      <td>Treasured Sesame Oil Duck</td>\n",
       "      <td>8 pax</td>\n",
       "      <td>15 mins</td>\n",
       "      <td>20ml Knife 100% Pure Sesame Oil\\n½ Duck (cut i...</td>\n",
       "      <td>Deep fry the yam sticks till crispy. Set aside...</td>\n",
       "      <td>Intermediate</td>\n",
       "      <td>NaN</td>\n",
       "      <td>https://www.youtube.com/embed/5vW4rrPwPj0</td>\n",
       "    </tr>\n",
       "    <tr>\n",
       "      <td>2</td>\n",
       "      <td>2</td>\n",
       "      <td>https://www.fairprice.com.sg/recipes/fruitful-...</td>\n",
       "      <td>Fruitful Sweet Prawns</td>\n",
       "      <td>4 pax</td>\n",
       "      <td>20 mins</td>\n",
       "      <td>10 pcs Diamond Live Frozen White Prawns*\\n40g ...</td>\n",
       "      <td>Add oil and fry unshelled thawed prawns over h...</td>\n",
       "      <td>Easy</td>\n",
       "      <td>NaN</td>\n",
       "      <td>https://www.youtube.com/embed/vD64-6io6oQ</td>\n",
       "    </tr>\n",
       "    <tr>\n",
       "      <td>3</td>\n",
       "      <td>3</td>\n",
       "      <td>https://www.fairprice.com.sg/recipes/pacific-c...</td>\n",
       "      <td>Pacific Clam with Roasted Sesame Dressing</td>\n",
       "      <td>10</td>\n",
       "      <td>15 mins</td>\n",
       "      <td>1 can Pacific clams, drained\\n20 Red cherry to...</td>\n",
       "      <td>Method\\nCut a small cross lightly at the botto...</td>\n",
       "      <td>Easy</td>\n",
       "      <td>https://www.fairprice.com.sg/wp-content/upload...</td>\n",
       "      <td>NaN</td>\n",
       "    </tr>\n",
       "    <tr>\n",
       "      <td>4</td>\n",
       "      <td>4</td>\n",
       "      <td>https://www.fairprice.com.sg/recipes/new-zeala...</td>\n",
       "      <td>New Zealand Superior Wild Abalone with Red Chi...</td>\n",
       "      <td>6 pax</td>\n",
       "      <td>15 mins</td>\n",
       "      <td>1 can Golden Chef New Zealand Superior Wild Ab...</td>\n",
       "      <td>Method\\nBoil Golden Chef New Zealand Superior ...</td>\n",
       "      <td>Easy</td>\n",
       "      <td>https://www.fairprice.com.sg/wp-content/upload...</td>\n",
       "      <td>NaN</td>\n",
       "    </tr>\n",
       "    <tr>\n",
       "      <td>...</td>\n",
       "      <td>...</td>\n",
       "      <td>...</td>\n",
       "      <td>...</td>\n",
       "      <td>...</td>\n",
       "      <td>...</td>\n",
       "      <td>...</td>\n",
       "      <td>...</td>\n",
       "      <td>...</td>\n",
       "      <td>...</td>\n",
       "      <td>...</td>\n",
       "    </tr>\n",
       "    <tr>\n",
       "      <td>111</td>\n",
       "      <td>111</td>\n",
       "      <td>https://www.fairprice.com.sg/recipes/chicken-b...</td>\n",
       "      <td>Chicken Brown Rice</td>\n",
       "      <td>10 pax</td>\n",
       "      <td>30mins</td>\n",
       "      <td>For Chicken\\n1.8kg Whole Chicken\\n6L Water\\n20...</td>\n",
       "      <td>Method\\nChicken\\nHeat up water in a deep pot u...</td>\n",
       "      <td>Intermediate</td>\n",
       "      <td>NaN</td>\n",
       "      <td>https://www.youtube.com/embed/424U2yViB7Y</td>\n",
       "    </tr>\n",
       "    <tr>\n",
       "      <td>112</td>\n",
       "      <td>112</td>\n",
       "      <td>https://www.fairprice.com.sg/recipes/healthy-f...</td>\n",
       "      <td>Healthy Fried Brown Rice</td>\n",
       "      <td>2 - 4 pax</td>\n",
       "      <td>30mins</td>\n",
       "      <td>2 tbsp Virgin Coconut Oil\\n1 knob of Fresh Gin...</td>\n",
       "      <td>Method\\nOn medium fire, heat oil in a large sa...</td>\n",
       "      <td>Easy</td>\n",
       "      <td>NaN</td>\n",
       "      <td>https://www.youtube.com/embed/FOaV8RAEzxM</td>\n",
       "    </tr>\n",
       "    <tr>\n",
       "      <td>113</td>\n",
       "      <td>113</td>\n",
       "      <td>https://www.fairprice.com.sg/recipes/pan-fried...</td>\n",
       "      <td>Pan Fried Fukuyama Scallops with Citrus Tofu S...</td>\n",
       "      <td>8 pax</td>\n",
       "      <td>30mins</td>\n",
       "      <td>300g Fukuyama Scallops, thawed and rinsed\\n2pc...</td>\n",
       "      <td>Method\\nPat the scallops dry with a clean kitc...</td>\n",
       "      <td>Easy</td>\n",
       "      <td>https://www.fairprice.com.sg/wp-content/upload...</td>\n",
       "      <td>NaN</td>\n",
       "    </tr>\n",
       "    <tr>\n",
       "      <td>114</td>\n",
       "      <td>114</td>\n",
       "      <td>https://www.fairprice.com.sg/recipes/fish-maw-...</td>\n",
       "      <td>Fish Maw Soup in Young Coconut</td>\n",
       "      <td>4 pax</td>\n",
       "      <td>30mins</td>\n",
       "      <td>750ml Swanson Chicken Broth\\n4 Young Coconuts\\...</td>\n",
       "      <td>Method\\nTo prepare the meat balls, mix the ing...</td>\n",
       "      <td>Easy</td>\n",
       "      <td>https://donate.fairprice.com.sg/wp-content/upl...</td>\n",
       "      <td>NaN</td>\n",
       "    </tr>\n",
       "    <tr>\n",
       "      <td>115</td>\n",
       "      <td>115</td>\n",
       "      <td>https://www.fairprice.com.sg/recipes/ayam-lema...</td>\n",
       "      <td>Ayam Lemak Chilli Padi</td>\n",
       "      <td>4 -6 pax</td>\n",
       "      <td>30mins</td>\n",
       "      <td>For the rempah (spice mix):\\n120g Shallots (ap...</td>\n",
       "      <td>Method\\nBlend together all ingredients for the...</td>\n",
       "      <td>Intermediate</td>\n",
       "      <td>https://www.fairprice.com.sg/wp-content/upload...</td>\n",
       "      <td>NaN</td>\n",
       "    </tr>\n",
       "  </tbody>\n",
       "</table>\n",
       "<p>116 rows × 10 columns</p>\n",
       "</div>"
      ],
      "text/plain": [
       "     Unnamed: 0                                               urls  \\\n",
       "0             0  https://www.fairprice.com.sg/recipes/fragrant-...   \n",
       "1             1  https://www.fairprice.com.sg/recipes/treasured...   \n",
       "2             2  https://www.fairprice.com.sg/recipes/fruitful-...   \n",
       "3             3  https://www.fairprice.com.sg/recipes/pacific-c...   \n",
       "4             4  https://www.fairprice.com.sg/recipes/new-zeala...   \n",
       "..          ...                                                ...   \n",
       "111         111  https://www.fairprice.com.sg/recipes/chicken-b...   \n",
       "112         112  https://www.fairprice.com.sg/recipes/healthy-f...   \n",
       "113         113  https://www.fairprice.com.sg/recipes/pan-fried...   \n",
       "114         114  https://www.fairprice.com.sg/recipes/fish-maw-...   \n",
       "115         115  https://www.fairprice.com.sg/recipes/ayam-lema...   \n",
       "\n",
       "                                            recipename   servings preptime  \\\n",
       "0                        Fragrant Bitter Gourd Chicken      8 pax  20 mins   \n",
       "1                            Treasured Sesame Oil Duck      8 pax  15 mins   \n",
       "2                                Fruitful Sweet Prawns      4 pax  20 mins   \n",
       "3            Pacific Clam with Roasted Sesame Dressing         10  15 mins   \n",
       "4    New Zealand Superior Wild Abalone with Red Chi...      6 pax  15 mins   \n",
       "..                                                 ...        ...      ...   \n",
       "111                                 Chicken Brown Rice     10 pax   30mins   \n",
       "112                           Healthy Fried Brown Rice  2 - 4 pax   30mins   \n",
       "113  Pan Fried Fukuyama Scallops with Citrus Tofu S...      8 pax   30mins   \n",
       "114                     Fish Maw Soup in Young Coconut      4 pax   30mins   \n",
       "115                             Ayam Lemak Chilli Padi   4 -6 pax   30mins   \n",
       "\n",
       "                                           ingredients  \\\n",
       "0    1 Pasar Jumbo Fresh Chicken*\\n2 pcs Lotus Leav...   \n",
       "1    20ml Knife 100% Pure Sesame Oil\\n½ Duck (cut i...   \n",
       "2    10 pcs Diamond Live Frozen White Prawns*\\n40g ...   \n",
       "3    1 can Pacific clams, drained\\n20 Red cherry to...   \n",
       "4    1 can Golden Chef New Zealand Superior Wild Ab...   \n",
       "..                                                 ...   \n",
       "111  For Chicken\\n1.8kg Whole Chicken\\n6L Water\\n20...   \n",
       "112  2 tbsp Virgin Coconut Oil\\n1 knob of Fresh Gin...   \n",
       "113  300g Fukuyama Scallops, thawed and rinsed\\n2pc...   \n",
       "114  750ml Swanson Chicken Broth\\n4 Young Coconuts\\...   \n",
       "115  For the rempah (spice mix):\\n120g Shallots (ap...   \n",
       "\n",
       "                                          instructions level_of_difficulty  \\\n",
       "0    Remove spare parts from chicken cavity. Rinse ...                Easy   \n",
       "1    Deep fry the yam sticks till crispy. Set aside...        Intermediate   \n",
       "2    Add oil and fry unshelled thawed prawns over h...                Easy   \n",
       "3    Method\\nCut a small cross lightly at the botto...                Easy   \n",
       "4    Method\\nBoil Golden Chef New Zealand Superior ...                Easy   \n",
       "..                                                 ...                 ...   \n",
       "111  Method\\nChicken\\nHeat up water in a deep pot u...        Intermediate   \n",
       "112  Method\\nOn medium fire, heat oil in a large sa...                Easy   \n",
       "113  Method\\nPat the scallops dry with a clean kitc...                Easy   \n",
       "114  Method\\nTo prepare the meat balls, mix the ing...                Easy   \n",
       "115  Method\\nBlend together all ingredients for the...        Intermediate   \n",
       "\n",
       "                                             image_url  \\\n",
       "0                                                  NaN   \n",
       "1                                                  NaN   \n",
       "2                                                  NaN   \n",
       "3    https://www.fairprice.com.sg/wp-content/upload...   \n",
       "4    https://www.fairprice.com.sg/wp-content/upload...   \n",
       "..                                                 ...   \n",
       "111                                                NaN   \n",
       "112                                                NaN   \n",
       "113  https://www.fairprice.com.sg/wp-content/upload...   \n",
       "114  https://donate.fairprice.com.sg/wp-content/upl...   \n",
       "115  https://www.fairprice.com.sg/wp-content/upload...   \n",
       "\n",
       "                                     video_url  \n",
       "0    https://www.youtube.com/embed/kEu3FM0fkpo  \n",
       "1    https://www.youtube.com/embed/5vW4rrPwPj0  \n",
       "2    https://www.youtube.com/embed/vD64-6io6oQ  \n",
       "3                                          NaN  \n",
       "4                                          NaN  \n",
       "..                                         ...  \n",
       "111  https://www.youtube.com/embed/424U2yViB7Y  \n",
       "112  https://www.youtube.com/embed/FOaV8RAEzxM  \n",
       "113                                        NaN  \n",
       "114                                        NaN  \n",
       "115                                        NaN  \n",
       "\n",
       "[116 rows x 10 columns]"
      ]
     },
     "execution_count": 5,
     "metadata": {},
     "output_type": "execute_result"
    }
   ],
   "source": [
    "fairprice_data"
   ]
  },
  {
   "cell_type": "code",
   "execution_count": null,
   "metadata": {
    "ExecuteTime": {
     "end_time": "2020-02-06T07:16:17.756825Z",
     "start_time": "2020-02-06T07:16:17.749581Z"
    }
   },
   "outputs": [],
   "source": [
    "fairprice_data.rename(columns={\"Unnamed: 0\": \"recipeid\"}, inplace=True)"
   ]
  },
  {
   "cell_type": "code",
   "execution_count": null,
   "metadata": {
    "ExecuteTime": {
     "end_time": "2020-02-06T07:16:17.965090Z",
     "start_time": "2020-02-06T07:16:17.957536Z"
    }
   },
   "outputs": [],
   "source": [
    "fairprice_data['recipeid'] = range(202022, len(fairprice_data) + 202022) "
   ]
  },
  {
   "cell_type": "code",
   "execution_count": null,
   "metadata": {
    "ExecuteTime": {
     "end_time": "2020-02-06T07:16:18.164791Z",
     "start_time": "2020-02-06T07:16:18.157561Z"
    }
   },
   "outputs": [],
   "source": [
    "fairprice_data.columns"
   ]
  },
  {
   "cell_type": "code",
   "execution_count": null,
   "metadata": {
    "ExecuteTime": {
     "end_time": "2020-02-06T07:16:18.320317Z",
     "start_time": "2020-02-06T07:16:18.315984Z"
    }
   },
   "outputs": [],
   "source": [
    "def edit_string1(s):\n",
    "    s.replace(\"â€™\", \",\")\n",
    "    return s "
   ]
  },
  {
   "cell_type": "code",
   "execution_count": null,
   "metadata": {
    "ExecuteTime": {
     "end_time": "2020-02-06T10:56:46.339191Z",
     "start_time": "2020-02-06T10:56:46.315113Z"
    }
   },
   "outputs": [],
   "source": [
    "coding: utf-8 \n",
    "\n",
    "def edit_string2(s):\n",
    "    s.replace(\"Â½\", \"1/2\")\n",
    "    return s "
   ]
  },
  {
   "cell_type": "code",
   "execution_count": null,
   "metadata": {
    "ExecuteTime": {
     "end_time": "2020-02-06T10:53:23.518710Z",
     "start_time": "2020-02-06T10:53:23.511910Z"
    }
   },
   "outputs": [],
   "source": [
    "edit_string2(\"Â½ cup Brown sugar\")"
   ]
  },
  {
   "cell_type": "code",
   "execution_count": null,
   "metadata": {
    "ExecuteTime": {
     "end_time": "2020-02-06T07:16:18.485820Z",
     "start_time": "2020-02-06T07:16:18.478098Z"
    }
   },
   "outputs": [],
   "source": [
    "fairprice_data['recipename'] = fairprice_data['recipename'].astype(str).apply(edit_string1)"
   ]
  },
  {
   "cell_type": "code",
   "execution_count": null,
   "metadata": {
    "ExecuteTime": {
     "end_time": "2020-02-06T07:16:18.706978Z",
     "start_time": "2020-02-06T07:16:18.699434Z"
    }
   },
   "outputs": [],
   "source": [
    "fairprice_data_list = fairprice_data['recipename'].str.lower()"
   ]
  },
  {
   "cell_type": "code",
   "execution_count": null,
   "metadata": {
    "ExecuteTime": {
     "end_time": "2020-02-06T07:16:18.925775Z",
     "start_time": "2020-02-06T07:16:18.920092Z"
    }
   },
   "outputs": [],
   "source": [
    "def first_digit(s):\n",
    "    for i, c in enumerate(str(s)):\n",
    "        if c.isdigit():\n",
    "            return c\n",
    "            break"
   ]
  },
  {
   "cell_type": "code",
   "execution_count": null,
   "metadata": {
    "ExecuteTime": {
     "end_time": "2020-02-06T07:16:19.188655Z",
     "start_time": "2020-02-06T07:16:19.180926Z"
    }
   },
   "outputs": [],
   "source": [
    "fairprice_data['servings'] = fairprice_data['servings'].apply(first_digit)"
   ]
  },
  {
   "cell_type": "code",
   "execution_count": null,
   "metadata": {
    "ExecuteTime": {
     "end_time": "2020-02-06T07:16:19.437848Z",
     "start_time": "2020-02-06T07:16:19.429774Z"
    }
   },
   "outputs": [],
   "source": [
    "import re\n",
    "def cooking_split(line):\n",
    "    lines = re.split(r';|,', line)\n",
    "    return lines"
   ]
  },
  {
   "cell_type": "code",
   "execution_count": null,
   "metadata": {
    "ExecuteTime": {
     "end_time": "2020-02-06T07:16:19.661601Z",
     "start_time": "2020-02-06T07:16:19.650662Z"
    }
   },
   "outputs": [],
   "source": [
    "fairprice_data[['preptime', 'cookingtime']] = fairprice_data['preptime'].str.split(\";\", expand = True) "
   ]
  },
  {
   "cell_type": "code",
   "execution_count": null,
   "metadata": {
    "ExecuteTime": {
     "end_time": "2020-02-06T07:16:20.058871Z",
     "start_time": "2020-02-06T07:16:20.050921Z"
    }
   },
   "outputs": [],
   "source": [
    "fairprice_data['cookingtime'] = fairprice_data['cookingtime'].fillna(\"NA\")"
   ]
  },
  {
   "cell_type": "code",
   "execution_count": null,
   "metadata": {
    "ExecuteTime": {
     "end_time": "2020-02-06T07:16:34.502783Z",
     "start_time": "2020-02-06T07:16:34.488666Z"
    }
   },
   "outputs": [],
   "source": [
    "from collections import defaultdict\n",
    "import re\n",
    "\n",
    "def humantime2minutes(s):\n",
    "    d = {\n",
    "      'w':      7*24*60,\n",
    "      'week':   7*24*60,\n",
    "      'weeks':  7*24*60,\n",
    "      'd':      24*60,\n",
    "      'day':    24*60,\n",
    "      'days':   24*60,\n",
    "      'h':      60,\n",
    "      'hr':     60,\n",
    "      'hour':   60,\n",
    "      'hours':  60,\n",
    "    }\n",
    "    mult_items = defaultdict(lambda: 1).copy()\n",
    "    mult_items.update(d)\n",
    "\n",
    "    if s != \"NA\":\n",
    "        parts = re.search(r'^(\\d+)([^\\d]*)', str(s).lower().replace(' ', ''))\n",
    "        if parts:\n",
    "            return int(parts.group(1)) * mult_items[parts.group(2)]\n",
    "        else:\n",
    "            return 0"
   ]
  },
  {
   "cell_type": "code",
   "execution_count": null,
   "metadata": {
    "ExecuteTime": {
     "end_time": "2020-02-06T07:16:35.379486Z",
     "start_time": "2020-02-06T07:16:35.368902Z"
    }
   },
   "outputs": [],
   "source": [
    "fairprice_data['preptime'] = fairprice_data['preptime'].apply(humantime2minutes)"
   ]
  },
  {
   "cell_type": "code",
   "execution_count": null,
   "metadata": {
    "ExecuteTime": {
     "end_time": "2020-02-06T07:16:42.833477Z",
     "start_time": "2020-02-06T07:16:42.819806Z"
    }
   },
   "outputs": [],
   "source": [
    "fairprice_data['cookingtime'] = fairprice_data['cookingtime'].apply(humantime2minutes)"
   ]
  },
  {
   "cell_type": "code",
   "execution_count": null,
   "metadata": {
    "ExecuteTime": {
     "end_time": "2020-02-06T07:16:46.790079Z",
     "start_time": "2020-02-06T07:16:46.778835Z"
    }
   },
   "outputs": [],
   "source": [
    "def faster(df):\n",
    "    s = df[\"ingredients\"].str.split('\\n', expand=True).stack()\n",
    "    i = s.index.get_level_values(0)\n",
    "    df2 = df.loc[i].copy()\n",
    "    df2[\"ingredients\"] = s.values\n",
    "    return df2"
   ]
  },
  {
   "cell_type": "code",
   "execution_count": null,
   "metadata": {
    "ExecuteTime": {
     "end_time": "2020-02-06T03:35:40.992497Z",
     "start_time": "2020-02-06T03:35:40.974855Z"
    }
   },
   "outputs": [],
   "source": [
    "fairprice_data_exploded = faster(fairprice_data)"
   ]
  },
  {
   "cell_type": "code",
   "execution_count": null,
   "metadata": {
    "ExecuteTime": {
     "end_time": "2020-02-06T02:14:34.233132Z",
     "start_time": "2020-02-06T02:14:34.223137Z"
    }
   },
   "outputs": [],
   "source": [
    "fairprice_data_list_ingred = fairprice_data_exploded['ingredients'].str.lower()"
   ]
  },
  {
   "cell_type": "markdown",
   "metadata": {
    "heading_collapsed": true
   },
   "source": [
    "# Retrain New Model "
   ]
  },
  {
   "cell_type": "code",
   "execution_count": null,
   "metadata": {
    "ExecuteTime": {
     "end_time": "2020-02-02T08:32:35.188511Z",
     "start_time": "2020-02-02T08:31:24.332680Z"
    },
    "hidden": true
   },
   "outputs": [],
   "source": [
    "import gensim\n",
    "\n",
    "model3 = gensim.models.KeyedVectors.load_word2vec_format('../YoRipe/Dictionaries/GoogleNews-vectors-negative300.bin',\n",
    "                                                        binary=True)"
   ]
  },
  {
   "cell_type": "code",
   "execution_count": null,
   "metadata": {
    "ExecuteTime": {
     "end_time": "2020-02-02T08:32:37.689183Z",
     "start_time": "2020-02-02T08:32:35.200416Z"
    },
    "hidden": true
   },
   "outputs": [],
   "source": [
    "words = model3.index2word\n",
    "\n",
    "w_rank = {}\n",
    "for i,word in enumerate(words):\n",
    "    w_rank[word] = i\n",
    "\n",
    "WORDS = w_rank"
   ]
  },
  {
   "cell_type": "code",
   "execution_count": null,
   "metadata": {
    "ExecuteTime": {
     "end_time": "2020-02-02T08:58:44.360574Z",
     "start_time": "2020-02-02T08:58:42.190423Z"
    },
    "hidden": true
   },
   "outputs": [],
   "source": [
    "dictionary = []\n",
    "for i in WORDS:\n",
    "    dictionary.append([i])\n",
    "\n",
    "len(dictionary)"
   ]
  },
  {
   "cell_type": "code",
   "execution_count": null,
   "metadata": {
    "ExecuteTime": {
     "end_time": "2020-02-02T08:56:31.036621Z",
     "start_time": "2020-02-02T08:56:30.675649Z"
    },
    "hidden": true
   },
   "outputs": [],
   "source": [
    "model3_train_input1 = pd.read_excel(r'C:\\Users\\Solomonzhs\\Desktop\\Fresh\\YoRipe\\Re__Data_files_for_your_perusal\\ingred_train.xlsx')\n",
    "model3_train_input2 = pd.read_excel(r'C:\\Users\\Solomonzhs\\Desktop\\Fresh\\YoRipe\\Re__Data_files_for_your_perusal\\ingred_changed with spelling correction.xlsx', sheet_name='Sheet2')\n",
    "model3_train_input3 = pd.read_excel(r'C:\\Users\\Solomonzhs\\Desktop\\Fresh\\YoRipe\\Re__Data_files_for_your_perusal\\Dictionary_Addition_2.xlsx', header = None)"
   ]
  },
  {
   "cell_type": "code",
   "execution_count": null,
   "metadata": {
    "ExecuteTime": {
     "end_time": "2020-02-02T08:56:44.415253Z",
     "start_time": "2020-02-02T08:56:44.406251Z"
    },
    "hidden": true
   },
   "outputs": [],
   "source": [
    "def orig(df):\n",
    "    s = df[\"variations\"].str.split(',').apply(pd.Series,1).stack()\n",
    "    s.index = s.index.droplevel(-1)\n",
    "    s.name = \"Variations\"\n",
    "    del df[\"variations\"]\n",
    "    return df.join(s)"
   ]
  },
  {
   "cell_type": "code",
   "execution_count": null,
   "metadata": {
    "ExecuteTime": {
     "end_time": "2020-02-02T08:56:45.000256Z",
     "start_time": "2020-02-02T08:56:44.925251Z"
    },
    "hidden": true
   },
   "outputs": [],
   "source": [
    "model3_train_input2 = orig(model3_train_input2)"
   ]
  },
  {
   "cell_type": "code",
   "execution_count": null,
   "metadata": {
    "ExecuteTime": {
     "end_time": "2020-02-02T08:56:48.093253Z",
     "start_time": "2020-02-02T08:56:48.085252Z"
    },
    "hidden": true
   },
   "outputs": [],
   "source": [
    "sentences1 = model3_train_input1['Sentences'].tolist()\n",
    "sentences2 = model3_train_input2['Correct spelling'].tolist()\n",
    "sentences3 = model3_train_input2['Variations'].tolist()\n",
    "sentences4 = model3_train_input3[0].tolist()"
   ]
  },
  {
   "cell_type": "code",
   "execution_count": null,
   "metadata": {
    "ExecuteTime": {
     "end_time": "2020-02-02T08:58:47.377502Z",
     "start_time": "2020-02-02T08:58:47.371503Z"
    },
    "hidden": true
   },
   "outputs": [],
   "source": [
    "for i in sentences1: \n",
    "    dictionary.append([str(i)])\n",
    "\n",
    "for j in sentences2: \n",
    "    dictionary.append([str(j)])\n",
    "\n",
    "for k in sentences3: \n",
    "    dictionary.append([str(k)])\n",
    "    \n",
    "for m in sentences4:\n",
    "    dictionary.append([str(m)])"
   ]
  },
  {
   "cell_type": "code",
   "execution_count": null,
   "metadata": {
    "ExecuteTime": {
     "end_time": "2020-02-02T09:00:15.294264Z",
     "start_time": "2020-02-02T08:58:51.607499Z"
    },
    "hidden": true
   },
   "outputs": [],
   "source": [
    "model_latest = gensim.models.Word2Vec(dictionary, min_count=1, workers=8)"
   ]
  },
  {
   "cell_type": "code",
   "execution_count": null,
   "metadata": {
    "ExecuteTime": {
     "end_time": "2020-02-02T09:00:30.170458Z",
     "start_time": "2020-02-02T09:00:18.226252Z"
    },
    "hidden": true
   },
   "outputs": [],
   "source": [
    "model_latest.save('model_latest.bin')"
   ]
  },
  {
   "cell_type": "markdown",
   "metadata": {
    "heading_collapsed": true
   },
   "source": [
    "# Use Model "
   ]
  },
  {
   "cell_type": "code",
   "execution_count": null,
   "metadata": {
    "ExecuteTime": {
     "end_time": "2020-02-03T13:28:29.224482Z",
     "start_time": "2020-02-03T13:27:58.246608Z"
    },
    "hidden": true
   },
   "outputs": [],
   "source": [
    "import gensim\n",
    "new_model = gensim.models.Word2Vec.load('model_latest.bin')"
   ]
  },
  {
   "cell_type": "code",
   "execution_count": null,
   "metadata": {
    "ExecuteTime": {
     "end_time": "2020-02-03T13:29:13.055940Z",
     "start_time": "2020-02-03T13:29:10.520541Z"
    },
    "hidden": true
   },
   "outputs": [],
   "source": [
    "#words = model.index2word\n",
    "\n",
    "w_rank = {}\n",
    "for i,word in enumerate(new_model.wv.vocab):\n",
    "    w_rank[word] = i\n",
    "    \n",
    "WORDS = w_rank\n",
    "WORDS\n",
    "\n",
    "len(WORDS)"
   ]
  },
  {
   "cell_type": "code",
   "execution_count": null,
   "metadata": {
    "ExecuteTime": {
     "end_time": "2020-02-03T13:29:13.195170Z",
     "start_time": "2020-02-03T13:29:13.061757Z"
    },
    "hidden": true
   },
   "outputs": [],
   "source": [
    "from collections import Counter\n",
    "\n",
    "def words(text): return re.findall(r'\\w+', text.lower())\n",
    "\n",
    "def P(word): \n",
    "    \"Probability of `word`.\"\n",
    "    # use inverse of rank as proxy\n",
    "    # returns 0 if the word isn't in the dictionary\n",
    "    return - WORDS.get(word, 0)\n",
    "\n",
    "def correction(word): \n",
    "    \"Most probable spelling correction for word.\"\n",
    "    return max(candidates(word), key=P)\n",
    "\n",
    "def candidates(word): \n",
    "    \"Generate possible spelling corrections for word.\"\n",
    "    return (known([word]) or known(edits1(word)) or known(edits2(word)) or [word])\n",
    "\n",
    "def known(words): \n",
    "    \"The subset of `words` that appear in the dictionary of WORDS.\"\n",
    "    return set(w for w in words if w in WORDS)\n",
    "\n",
    "def edits1(word):\n",
    "    \"All edits that are one edit away from `word`.\"\n",
    "    letters    = 'abcdefghijklmnopqrstuvwxyz'\n",
    "    splits     = [(word[:i], word[i:])    for i in range(len(word) + 1)]\n",
    "    deletes    = [L + R[1:]               for L, R in splits if R]\n",
    "    transposes = [L + R[1] + R[0] + R[2:] for L, R in splits if len(R)>1]\n",
    "    replaces   = [L + c + R[1:]           for L, R in splits if R for c in letters]\n",
    "    inserts    = [L + c + R               for L, R in splits for c in letters]\n",
    "    return set(deletes + transposes + replaces + inserts)\n",
    "\n",
    "def edits2(word): \n",
    "    \"All edits that are two edits away from `word`.\"\n",
    "    return (e2 for e1 in edits1(word) for e2 in edits1(e1))"
   ]
  },
  {
   "cell_type": "code",
   "execution_count": null,
   "metadata": {
    "ExecuteTime": {
     "end_time": "2020-02-03T14:12:41.122830Z",
     "start_time": "2020-02-03T13:29:24.968575Z"
    },
    "hidden": true
   },
   "outputs": [],
   "source": [
    "correction_phrases= []\n",
    "original_phrases = []\n",
    "for i in fairprice_data_list_ingred:\n",
    "    correction_phrases.append(correction(str(i)))\n",
    "    original_phrases.append(i)"
   ]
  },
  {
   "cell_type": "code",
   "execution_count": null,
   "metadata": {
    "ExecuteTime": {
     "end_time": "2020-02-03T14:14:28.235926Z",
     "start_time": "2020-02-03T14:14:28.209553Z"
    },
    "hidden": true
   },
   "outputs": [],
   "source": [
    "import math\n",
    "\n",
    "counterA = Counter(original_phrases)\n",
    "counterB = Counter(correction_phrases)\n",
    "\n",
    "\n",
    "def counter_cosine_similarity(c1, c2):\n",
    "    terms = set(c1).union(c2)\n",
    "    dotprod = sum(c1.get(k, 0) * c2.get(k, 0) for k in terms)\n",
    "    magA = math.sqrt(sum(c1.get(k, 0)**2 for k in terms))\n",
    "    magB = math.sqrt(sum(c2.get(k, 0)**2 for k in terms))\n",
    "    return dotprod / (magA * magB)\n",
    "\n",
    "print(counter_cosine_similarity(counterA, counterB) * 100)"
   ]
  },
  {
   "cell_type": "code",
   "execution_count": null,
   "metadata": {
    "ExecuteTime": {
     "end_time": "2020-02-03T14:14:30.314860Z",
     "start_time": "2020-02-03T14:14:30.302050Z"
    },
    "hidden": true
   },
   "outputs": [],
   "source": [
    "recipe_tuples = list(zip(correction_phrases, original_phrases))\n",
    "recipe_changed = pd.DataFrame(recipe_tuples, columns = ['Corrected','Original'])"
   ]
  },
  {
   "cell_type": "code",
   "execution_count": null,
   "metadata": {
    "ExecuteTime": {
     "end_time": "2020-02-03T14:14:32.524024Z",
     "start_time": "2020-02-03T14:14:32.512776Z"
    },
    "hidden": true
   },
   "outputs": [],
   "source": [
    "list1 = list(set(correction_phrases) - set(original_phrases))\n",
    "len(list1)"
   ]
  },
  {
   "cell_type": "code",
   "execution_count": null,
   "metadata": {
    "ExecuteTime": {
     "end_time": "2020-02-03T14:14:33.460979Z",
     "start_time": "2020-02-03T14:14:33.452684Z"
    },
    "hidden": true
   },
   "outputs": [],
   "source": [
    "list2 = set(set(original_phrases) - set(correction_phrases))\n",
    "len(list2)"
   ]
  },
  {
   "cell_type": "code",
   "execution_count": null,
   "metadata": {
    "ExecuteTime": {
     "end_time": "2020-02-03T14:14:35.438502Z",
     "start_time": "2020-02-03T14:14:35.421543Z"
    },
    "hidden": true
   },
   "outputs": [],
   "source": [
    "recipe_changed['Changed'] = recipe_changed['Original'].apply(lambda  x: 1 if x in list2 else 0)"
   ]
  },
  {
   "cell_type": "code",
   "execution_count": null,
   "metadata": {
    "ExecuteTime": {
     "end_time": "2020-02-03T14:14:40.224971Z",
     "start_time": "2020-02-03T14:14:39.094183Z"
    },
    "hidden": true
   },
   "outputs": [],
   "source": [
    "recipe_changed.to_excel(r'recipe_changed_new_4.xlsx')"
   ]
  },
  {
   "cell_type": "markdown",
   "metadata": {},
   "source": [
    "# Upper Case "
   ]
  },
  {
   "cell_type": "code",
   "execution_count": null,
   "metadata": {
    "ExecuteTime": {
     "end_time": "2020-02-06T03:36:04.285753Z",
     "start_time": "2020-02-06T03:36:04.146021Z"
    }
   },
   "outputs": [],
   "source": [
    "fairprice_data_v2_load = pd.read_excel(r'C:\\Users\\Solomonzhs\\Desktop\\Fresh\\YoRipe\\Fairprice\\recipe_changed_new_4.xlsx')"
   ]
  },
  {
   "cell_type": "code",
   "execution_count": null,
   "metadata": {
    "ExecuteTime": {
     "end_time": "2020-02-06T03:36:58.676652Z",
     "start_time": "2020-02-06T03:36:58.667149Z"
    }
   },
   "outputs": [],
   "source": [
    "def index_upper(string):\n",
    "    index = []\n",
    "    for i in range(len(string)):\n",
    "        if string[i].isupper():\n",
    "            print(string[i])\n",
    "            index.append(i)\n",
    "    return index"
   ]
  },
  {
   "cell_type": "code",
   "execution_count": null,
   "metadata": {
    "ExecuteTime": {
     "end_time": "2020-02-06T03:37:03.091617Z",
     "start_time": "2020-02-06T03:37:02.718425Z"
    }
   },
   "outputs": [],
   "source": [
    "fairprice_data_exploded['index_upper_list'] = fairprice_data_exploded['ingredients'].astype(str).apply(index_upper)"
   ]
  },
  {
   "cell_type": "code",
   "execution_count": null,
   "metadata": {
    "ExecuteTime": {
     "end_time": "2020-02-06T03:36:21.548612Z",
     "start_time": "2020-02-06T03:36:21.507892Z"
    }
   },
   "outputs": [],
   "source": [
    "fairprice_data_exploded"
   ]
  },
  {
   "cell_type": "code",
   "execution_count": null,
   "metadata": {
    "ExecuteTime": {
     "end_time": "2020-02-06T03:39:43.931454Z",
     "start_time": "2020-02-06T03:39:43.917017Z"
    }
   },
   "outputs": [],
   "source": [
    "fairprice_data_exploded = fairprice_data_exploded.reset_index() "
   ]
  },
  {
   "cell_type": "code",
   "execution_count": null,
   "metadata": {
    "ExecuteTime": {
     "end_time": "2020-02-06T03:39:45.193379Z",
     "start_time": "2020-02-06T03:39:45.189281Z"
    }
   },
   "outputs": [],
   "source": [
    "fairprice_data_exploded['ingredients2'] = fairprice_data_v2_load['Corrected']"
   ]
  },
  {
   "cell_type": "code",
   "execution_count": null,
   "metadata": {
    "ExecuteTime": {
     "end_time": "2020-02-06T03:37:42.669366Z",
     "start_time": "2020-02-06T03:37:42.656999Z"
    }
   },
   "outputs": [],
   "source": [
    "def upper_index(s, indexes):\n",
    "    s = \"\".join(c.upper() if i in indexes else c for i, c in enumerate(s))\n",
    "    return s"
   ]
  },
  {
   "cell_type": "code",
   "execution_count": null,
   "metadata": {
    "ExecuteTime": {
     "end_time": "2020-02-06T03:39:55.384035Z",
     "start_time": "2020-02-06T03:39:55.311800Z"
    }
   },
   "outputs": [],
   "source": [
    "fairprice_data_exploded['ingredients3'] = fairprice_data_exploded.apply(lambda row: upper_index(row['ingredients2'], \n",
    "                                                                                                row['index_upper_list']), axis=1)"
   ]
  },
  {
   "cell_type": "code",
   "execution_count": null,
   "metadata": {
    "ExecuteTime": {
     "end_time": "2020-02-06T03:39:56.083169Z",
     "start_time": "2020-02-06T03:39:56.042391Z"
    }
   },
   "outputs": [],
   "source": [
    "fairprice_data_exploded"
   ]
  },
  {
   "cell_type": "code",
   "execution_count": null,
   "metadata": {},
   "outputs": [],
   "source": []
  },
  {
   "cell_type": "code",
   "execution_count": null,
   "metadata": {},
   "outputs": [],
   "source": []
  },
  {
   "cell_type": "code",
   "execution_count": null,
   "metadata": {},
   "outputs": [],
   "source": []
  },
  {
   "cell_type": "code",
   "execution_count": null,
   "metadata": {
    "ExecuteTime": {
     "end_time": "2020-02-04T01:59:13.614528Z",
     "start_time": "2020-02-04T01:59:13.607438Z"
    }
   },
   "outputs": [],
   "source": [
    "def up_case(x):\n",
    "    return x.title()\n",
    "\n",
    "fairprice_data_v2['ingredients'] = fairprice_data_v2_load['Corrected']#.apply(up_case)"
   ]
  },
  {
   "cell_type": "code",
   "execution_count": null,
   "metadata": {
    "ExecuteTime": {
     "end_time": "2020-02-04T02:07:00.655630Z",
     "start_time": "2020-02-04T02:07:00.647403Z"
    }
   },
   "outputs": [],
   "source": [
    "string1 = 'geeksforgeeks'\n",
    "string2 = 'GeeksforGeeks'\n",
    "string3 = ''\n",
    "for i in range(len(string2)):\n",
    "    if not string2[i].isupper():\n",
    "        string3 += string1[i]\n",
    "    else:`\n",
    "        string3 += string1[i].upper()\n",
    "string3"
   ]
  },
  {
   "cell_type": "code",
   "execution_count": null,
   "metadata": {
    "ExecuteTime": {
     "end_time": "2020-02-04T04:02:51.232760Z",
     "start_time": "2020-02-04T04:02:50.996329Z"
    }
   },
   "outputs": [],
   "source": [
    "outcome = []\n",
    "\n",
    "for i in range(len(fairprice_data_v2_load)):\n",
    "    print(\"1-\" + fairprice_data_v2_load['Corrected'][i])\n",
    "    print(\"3-\" + fairprice_data_exploded['ingredients'][i])\n",
    "    string3 = ''\n",
    "    for j in fairprice_data_exploded['ingredients'][i]:\n",
    "        #print(j)\n",
    "        if not j.isupper():\n",
    "            string3 += j\n",
    "        else:\n",
    "            string3 = j.upper()\n",
    "    print(\"2-\" + string3)\n",
    "#     for j in fairprice_data_v2['ingredients'][i]:\n",
    "#         print(j)\n",
    "#         string3 = ''\n",
    "#         for k in fairprice_data['ingredients'][i]:\n",
    "#             if not k.isupper():\n",
    "#                 string3 += k\n",
    "#             else:\n",
    "#                 string3 += k.upper()\n",
    "#         j = string3\n",
    "#         print(j)"
   ]
  },
  {
   "cell_type": "code",
   "execution_count": null,
   "metadata": {},
   "outputs": [],
   "source": [
    "fairprice_data_v2"
   ]
  }
 ],
 "metadata": {
  "kernelspec": {
   "display_name": "Python 3",
   "language": "python",
   "name": "python3"
  },
  "language_info": {
   "codemirror_mode": {
    "name": "ipython",
    "version": 3
   },
   "file_extension": ".py",
   "mimetype": "text/x-python",
   "name": "python",
   "nbconvert_exporter": "python",
   "pygments_lexer": "ipython3",
   "version": "3.7.4"
  },
  "toc": {
   "base_numbering": 1,
   "nav_menu": {},
   "number_sections": true,
   "sideBar": true,
   "skip_h1_title": false,
   "title_cell": "Table of Contents",
   "title_sidebar": "Contents",
   "toc_cell": false,
   "toc_position": {
    "height": "calc(100% - 180px)",
    "left": "10px",
    "top": "150px",
    "width": "201.594px"
   },
   "toc_section_display": true,
   "toc_window_display": true
  }
 },
 "nbformat": 4,
 "nbformat_minor": 2
}
