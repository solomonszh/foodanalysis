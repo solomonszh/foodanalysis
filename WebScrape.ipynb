{
 "cells": [
  {
   "cell_type": "markdown",
   "metadata": {
    "heading_collapsed": true
   },
   "source": [
    "# Alternative Test "
   ]
  },
  {
   "cell_type": "raw",
   "metadata": {
    "ExecuteTime": {
     "end_time": "2020-01-26T07:37:10.032377Z",
     "start_time": "2020-01-26T07:37:09.465416Z"
    },
    "hidden": true
   },
   "source": [
    "for i in driver.find_elements_by_link_text('LOAD MORE'):\n",
    "    i.click()\n",
    "    html_list = driver.find_elements_by_tag_name('h4')\n",
    "    urls_list = []\n",
    "    for i in html_list:\n",
    "        for j in i.find_elements_by_tag_name('a'):\n",
    "            print(j.get_attribute('href'))"
   ]
  },
  {
   "cell_type": "raw",
   "metadata": {
    "ExecuteTime": {
     "end_time": "2020-01-26T07:26:44.058633Z",
     "start_time": "2020-01-26T07:26:42.764464Z"
    },
    "hidden": true
   },
   "source": [
    "for x in driver.find_elements_by_link_text(\"LOAD MORE\"):\n",
    "    link = webdriver.ActionChains(driver).move_to_element(x).click(x).perform()\n",
    "    print(link)\n",
    "    \n",
    "    "
   ]
  },
  {
   "cell_type": "raw",
   "metadata": {
    "ExecuteTime": {
     "end_time": "2020-01-26T07:18:44.745703Z",
     "start_time": "2020-01-26T07:18:44.729709Z"
    },
    "hidden": true
   },
   "source": [
    "el = driver.find_element_by_css_selector(\".tp-load-more\")"
   ]
  },
  {
   "cell_type": "raw",
   "metadata": {
    "ExecuteTime": {
     "end_time": "2020-01-26T07:18:45.456244Z",
     "start_time": "2020-01-26T07:18:45.437708Z"
    },
    "hidden": true
   },
   "source": [
    "if el:\n",
    "    print(el.get_attribute(\"innerHTML\"))"
   ]
  },
  {
   "cell_type": "markdown",
   "metadata": {
    "heading_collapsed": true,
    "hidden": true
   },
   "source": [
    "## Test"
   ]
  },
  {
   "cell_type": "code",
   "execution_count": null,
   "metadata": {
    "ExecuteTime": {
     "end_time": "2020-01-26T08:03:43.073617Z",
     "start_time": "2020-01-26T08:03:42.112622Z"
    },
    "hidden": true
   },
   "outputs": [],
   "source": [
    "driver.get(\"https://www.fairprice.com.sg/recipes/\")"
   ]
  },
  {
   "cell_type": "code",
   "execution_count": null,
   "metadata": {
    "ExecuteTime": {
     "end_time": "2020-01-26T07:18:55.444518Z",
     "start_time": "2020-01-26T07:18:55.425484Z"
    },
    "hidden": true
   },
   "outputs": [],
   "source": [
    "html_list = driver.find_elements_by_tag_name('h4')"
   ]
  },
  {
   "cell_type": "code",
   "execution_count": null,
   "metadata": {
    "ExecuteTime": {
     "end_time": "2020-01-26T07:18:55.915739Z",
     "start_time": "2020-01-26T07:18:55.908484Z"
    },
    "hidden": true
   },
   "outputs": [],
   "source": [
    "html_list"
   ]
  },
  {
   "cell_type": "code",
   "execution_count": null,
   "metadata": {
    "ExecuteTime": {
     "end_time": "2020-01-26T07:18:58.253602Z",
     "start_time": "2020-01-26T07:18:58.247569Z"
    },
    "hidden": true
   },
   "outputs": [],
   "source": [
    "from selenium.webdriver.common.by import By"
   ]
  },
  {
   "cell_type": "code",
   "execution_count": null,
   "metadata": {
    "ExecuteTime": {
     "end_time": "2020-01-26T07:18:58.623491Z",
     "start_time": "2020-01-26T07:18:58.618511Z"
    },
    "hidden": true
   },
   "outputs": [],
   "source": [
    "import numpy as np"
   ]
  },
  {
   "cell_type": "code",
   "execution_count": null,
   "metadata": {
    "ExecuteTime": {
     "end_time": "2020-01-26T07:19:00.080141Z",
     "start_time": "2020-01-26T07:18:59.100613Z"
    },
    "hidden": true
   },
   "outputs": [],
   "source": [
    "urls_list = []\n",
    "for i in html_list:\n",
    "    for j in i.find_elements_by_tag_name('a'):\n",
    "        print(j.get_attribute('href'))"
   ]
  },
  {
   "cell_type": "markdown",
   "metadata": {},
   "source": [
    "# Actual "
   ]
  },
  {
   "cell_type": "code",
   "execution_count": 2,
   "metadata": {
    "ExecuteTime": {
     "end_time": "2020-02-27T05:49:27.188061Z",
     "start_time": "2020-02-27T05:49:11.079792Z"
    }
   },
   "outputs": [
    {
     "name": "stdout",
     "output_type": "stream",
     "text": [
      "Trying to download new driver from http://chromedriver.storage.googleapis.com/80.0.3987.106/chromedriver_win32.zip\n",
      "Unpack archive C:\\Users\\User\\.wdm\\drivers\\chromedriver\\80.0.3987.106\\win32\\chromedriver.zip\n"
     ]
    }
   ],
   "source": [
    "import os \n",
    "import pandas as pd\n",
    "from selenium import webdriver\n",
    "from webdriver_manager.chrome import ChromeDriverManager\n",
    "import time\n",
    "import xlsxwriter\n",
    "from os.path  import basename\n",
    "import requests\n",
    "import re\n",
    "\n",
    "#os.chdir(\"/Users/Solomonzhs/Desktop/Fresh/YoRipe\")\n",
    "#df = pd.read_excel(\"/Users/janiceteo/Documents/YoRipe/SongFish/Recipes_Dec 2019 - SongFish.xlsx\", \"Sheet1\")\n",
    "driver = webdriver.Chrome(ChromeDriverManager().install())\n",
    "#driver = webdriver.PhantomJS(executable_path='/Users/janiceteo/Downloads/phantomjs-2.1.1-macosx/bin/phantomjs')\n",
    "#driver = webdriver.Firefox(executable_path = '/Users/janiceteo/Downloads/geckodriver')"
   ]
  },
  {
   "cell_type": "code",
   "execution_count": 3,
   "metadata": {
    "ExecuteTime": {
     "end_time": "2020-02-27T05:49:33.880485Z",
     "start_time": "2020-02-27T05:49:27.188061Z"
    }
   },
   "outputs": [],
   "source": [
    "driver.get(\"https://www.fairprice.com.sg/recipes/\")"
   ]
  },
  {
   "cell_type": "markdown",
   "metadata": {
    "heading_collapsed": true
   },
   "source": [
    "## Get URLs "
   ]
  },
  {
   "cell_type": "code",
   "execution_count": null,
   "metadata": {
    "ExecuteTime": {
     "end_time": "2020-02-01T15:05:02.022429Z",
     "start_time": "2020-02-01T15:04:59.978682Z"
    },
    "hidden": true
   },
   "outputs": [],
   "source": [
    "for i in driver.find_elements_by_id('load-more-recipes'):\n",
    "    try:\n",
    "        #i.click()\n",
    "        while i in driver.find_elements_by_id('load-more-recipes'):\n",
    "            i.click()\n",
    "    except:\n",
    "        print('Done')"
   ]
  },
  {
   "cell_type": "code",
   "execution_count": null,
   "metadata": {
    "ExecuteTime": {
     "end_time": "2020-02-01T15:07:02.359995Z",
     "start_time": "2020-02-01T15:07:00.670098Z"
    },
    "hidden": true
   },
   "outputs": [],
   "source": [
    "html_list = driver.find_elements_by_tag_name('h4')\n",
    "urls_list = []\n",
    "for i in html_list:\n",
    "    for j in i.find_elements_by_tag_name('a'):\n",
    "        urls_list.append(j.get_attribute('href'))"
   ]
  },
  {
   "cell_type": "code",
   "execution_count": null,
   "metadata": {
    "ExecuteTime": {
     "end_time": "2020-02-01T15:08:08.088036Z",
     "start_time": "2020-02-01T15:08:08.078037Z"
    },
    "hidden": true
   },
   "outputs": [],
   "source": [
    "urls_list = list(dict.fromkeys(urls_list))\n",
    "urls_list_data = pd.DataFrame(urls_list, columns=['urls'])"
   ]
  },
  {
   "cell_type": "code",
   "execution_count": null,
   "metadata": {
    "ExecuteTime": {
     "end_time": "2020-02-01T15:06:38.041725Z",
     "start_time": "2020-02-01T15:06:38.026691Z"
    },
    "hidden": true
   },
   "outputs": [],
   "source": [
    "urls_list_data.to_csv(r'C:\\Users\\Solomonzhs\\Desktop\\Fresh\\YoRipe\\fairprice_urls.csv')"
   ]
  },
  {
   "cell_type": "markdown",
   "metadata": {},
   "source": [
    "# Scraping Actual Pages"
   ]
  },
  {
   "cell_type": "code",
   "execution_count": null,
   "metadata": {
    "ExecuteTime": {
     "end_time": "2020-02-01T15:29:09.129133Z",
     "start_time": "2020-02-01T15:29:09.120087Z"
    }
   },
   "outputs": [],
   "source": [
    "fairprice_recipe = pd.read_csv(r'C:\\Users\\Solomonzhs\\Desktop\\Fresh\\YoRipe\\fairprice_urls.csv')"
   ]
  },
  {
   "cell_type": "code",
   "execution_count": null,
   "metadata": {
    "ExecuteTime": {
     "end_time": "2020-02-01T15:29:09.414908Z",
     "start_time": "2020-02-01T15:29:09.408899Z"
    }
   },
   "outputs": [],
   "source": [
    "recipename = []\n",
    "servings = []\n",
    "preptime = []\n",
    "level_of_difficulty = []\n",
    "ingredients = []\n",
    "instructions = []\n",
    "image_url = []\n",
    "video_url = []"
   ]
  },
  {
   "cell_type": "code",
   "execution_count": null,
   "metadata": {
    "ExecuteTime": {
     "end_time": "2020-02-01T15:29:09.706898Z",
     "start_time": "2020-02-01T15:29:09.699930Z"
    }
   },
   "outputs": [],
   "source": [
    "def listToString(s):  \n",
    "    str1 = \"\\n \" \n",
    "    return (str1.join(s)) "
   ]
  },
  {
   "cell_type": "code",
   "execution_count": null,
   "metadata": {
    "ExecuteTime": {
     "end_time": "2020-02-01T15:29:10.061902Z",
     "start_time": "2020-02-01T15:29:10.057900Z"
    }
   },
   "outputs": [],
   "source": [
    "def num_there(s):\n",
    "    return any(i.isdigit() for i in s)"
   ]
  },
  {
   "cell_type": "markdown",
   "metadata": {},
   "source": [
    "## Scraping All Pages "
   ]
  },
  {
   "cell_type": "code",
   "execution_count": null,
   "metadata": {},
   "outputs": [],
   "source": [
    "def edit_string(s):\n",
    "    s.replace(\"â€™\", \",\")\n",
    "    return s "
   ]
  },
  {
   "cell_type": "code",
   "execution_count": null,
   "metadata": {
    "ExecuteTime": {
     "end_time": "2020-02-06T06:26:01.517960Z",
     "start_time": "2020-02-06T06:26:01.508586Z"
    }
   },
   "outputs": [],
   "source": [
    "def first_digit(s):\n",
    "    for i, c in enumerate(str(s)):\n",
    "        if c.isdigit():\n",
    "            return c\n",
    "            break"
   ]
  },
  {
   "cell_type": "code",
   "execution_count": null,
   "metadata": {
    "ExecuteTime": {
     "end_time": "2020-02-06T06:47:57.000545Z",
     "start_time": "2020-02-06T06:47:56.990485Z"
    }
   },
   "outputs": [],
   "source": [
    "import re\n",
    "def cooking_split(line):\n",
    "    lines = re.split(r';|,', line)\n",
    "    return lines"
   ]
  },
  {
   "cell_type": "code",
   "execution_count": 1,
   "metadata": {
    "ExecuteTime": {
     "end_time": "2020-02-06T07:18:11.564818Z",
     "start_time": "2020-02-06T07:18:11.552540Z"
    }
   },
   "outputs": [],
   "source": [
    "from collections import defaultdict\n",
    "import re\n",
    "\n",
    "def humantime2minutes(s):\n",
    "    d = {\n",
    "      'w':      7*24*60,\n",
    "      'week':   7*24*60,\n",
    "      'weeks':  7*24*60,\n",
    "      'd':      24*60,\n",
    "      'day':    24*60,\n",
    "      'days':   24*60,\n",
    "      'h':      60,\n",
    "      'hr':     60,\n",
    "      'hour':   60,\n",
    "      'hours':  60,\n",
    "    }\n",
    "    mult_items = defaultdict(lambda: 1).copy()\n",
    "    mult_items.update(d)\n",
    "\n",
    "    parts = re.search(r'^(\\d+)([^\\d]*)', str(s).lower().replace(' ', ''))\n",
    "    if parts:\n",
    "        return int(parts.group(1)) * mult_items[parts.group(2)] #+ humantime2minutes(re.sub(r'^(\\d+)([^\\d]*)', '', str(s).lower()))\n",
    "    else:\n",
    "        return 0"
   ]
  },
  {
   "cell_type": "code",
   "execution_count": null,
   "metadata": {
    "ExecuteTime": {
     "end_time": "2020-02-06T07:08:30.667065Z",
     "start_time": "2020-02-06T07:08:30.548947Z"
    }
   },
   "outputs": [],
   "source": [
    "for i in fairprice_recipe.urls:\n",
    "    try:\n",
    "        driver.get(i)\n",
    "        \n",
    "        if driver.find_element_by_tag_name('h4'):\n",
    "            recipe = edit_string(driver.find_element_by_tag_name('h4').text)\n",
    "            recipename.append(recipe)\n",
    "            \n",
    "        else:\n",
    "            recipename.append(\"NA\")\n",
    "\n",
    "        all_units = driver.find_elements_by_tag_name('Strong')\n",
    "        if all_units:\n",
    "            serving = first_digit(all_units[0].text)\n",
    "            servings.append(serving)\n",
    "            \n",
    "            if num_there(all_units[1].text):\n",
    "                lines = cooking_split(all_units[1].text)\n",
    "                if len(lines) == 2:\n",
    "                    prep = humantime2minutes(lines[0])\n",
    "                    preptime.append(prep)\n",
    "                    cook = humantime2minutes(lines[1])\n",
    "                    cookingtime.append(cook)\n",
    "                else:\n",
    "                    prep = humantime2minutes(lines[0])\n",
    "                    preptime.append(prep)\n",
    "                    cookingtime.append(\"NA\")\n",
    "                level_of_difficulty.append(all_units[2].text)\n",
    "            else:\n",
    "                preptime.append(\"NA\")\n",
    "                cookingtime.append(\"NA\")\n",
    "                level_of_difficulty.append(all_units[1].text)         \n",
    "        else:\n",
    "            servings.append(\"NA\")\n",
    "            preptime.append(\"NA\")\n",
    "            level_of_difficulty.append(\"NA\")\n",
    "\n",
    "        if driver.find_elements_by_class_name('tp-product-left'):\n",
    "            for j in driver.find_elements_by_class_name('tp-product-left'):\n",
    "                ingredients.append(j.find_element_by_tag_name('p').text)\n",
    "        else: \n",
    "            ingredients.append(\"NA\")\n",
    "\n",
    "        instruction_temp = []\n",
    "        if driver.find_elements_by_class_name('wpb_wrapper'):\n",
    "            for k in driver.find_elements_by_class_name('wpb_wrapper'):\n",
    "                for m in k.find_elements_by_tag_name('li'):\n",
    "                    instruction_temp.append(m.text)\n",
    "            instruction_next = instruction_temp[0:int(len(instruction_temp)/2)] \n",
    "            instructions.append(listToString(instruction_next))\n",
    "        elif driver.find_element_by_class_name('tp-product-right'):\n",
    "            instructions.append(driver.find_element_by_class_name('tp-product-right').text)\n",
    "        else:\n",
    "            instructions.append(\"NA\")\n",
    "            \n",
    "        try:\n",
    "            src = driver.find_element_by_xpath(\"//div[@class='tp-video']/img\").get_attribute(\"src\")\n",
    "            image_url.append(src)\n",
    "            video_url.append(\"NA\")\n",
    "#             #filename = src.split('/')[-1]\n",
    "#             #driver.get(src)\n",
    "#             #driver.save_screenshot(filename)\n",
    "        except:\n",
    "            src = driver.find_element_by_xpath(\"//div[@class='tp-video']/iframe\").get_attribute(\"src\")\n",
    "            image_url.append(\"NA\")\n",
    "            video_url.append(src)\n",
    "            \n",
    "        print(len(recipename))\n",
    "    \n",
    "    except:\n",
    "        print(i)\n",
    "        recipename.append(\"NA\")\n",
    "        servings.append(\"NA\")\n",
    "        preptime.append(\"NA\")\n",
    "        level_of_difficulty.append(\"NA\")\n",
    "        ingredients.append(\"NA\")\n",
    "        instructions.append(\"NA\")\n",
    "        image_url.append(\"NA\")\n",
    "        video_url.append(\"NA\")\n",
    "        continue\n",
    "        print('Done')"
   ]
  },
  {
   "cell_type": "code",
   "execution_count": null,
   "metadata": {
    "ExecuteTime": {
     "end_time": "2020-02-01T15:32:39.940677Z",
     "start_time": "2020-02-01T15:32:39.928677Z"
    }
   },
   "outputs": [],
   "source": [
    "outcome = pd.DataFrame(list(zip(recipename, servings, preptime, ingredients, instructions, level_of_difficulty, \n",
    "                                image_url, video_url)), \n",
    "               columns =['recipename', 'servings', 'preptime', 'ingredients', 'instructions', 'level_of_difficulty', \n",
    "                         'image_url', 'video_url']) "
   ]
  },
  {
   "cell_type": "code",
   "execution_count": null,
   "metadata": {
    "ExecuteTime": {
     "end_time": "2020-02-01T15:32:45.089336Z",
     "start_time": "2020-02-01T15:32:45.077658Z"
    }
   },
   "outputs": [],
   "source": [
    "final_outcome = fairprice_recipe.join(outcome)"
   ]
  },
  {
   "cell_type": "code",
   "execution_count": null,
   "metadata": {
    "ExecuteTime": {
     "end_time": "2020-02-01T15:32:45.652655Z",
     "start_time": "2020-02-01T15:32:45.628658Z"
    }
   },
   "outputs": [],
   "source": [
    "final_outcome"
   ]
  },
  {
   "cell_type": "code",
   "execution_count": null,
   "metadata": {
    "ExecuteTime": {
     "end_time": "2020-02-01T15:32:50.272683Z",
     "start_time": "2020-02-01T15:32:50.257654Z"
    }
   },
   "outputs": [],
   "source": [
    "final_outcome.to_csv(r\"C:\\Users\\Solomonzhs\\Desktop\\Fresh\\YoRipe\\fairprice_output.csv\")"
   ]
  },
  {
   "cell_type": "code",
   "execution_count": null,
   "metadata": {
    "ExecuteTime": {
     "end_time": "2020-01-28T08:02:08.309492Z",
     "start_time": "2020-01-28T08:02:03.915690Z"
    }
   },
   "outputs": [],
   "source": [
    "driver.close()"
   ]
  },
  {
   "cell_type": "markdown",
   "metadata": {
    "heading_collapsed": true
   },
   "source": [
    "## Single Build "
   ]
  },
  {
   "cell_type": "code",
   "execution_count": null,
   "metadata": {
    "ExecuteTime": {
     "end_time": "2020-02-01T15:27:32.348218Z",
     "start_time": "2020-02-01T15:27:31.546257Z"
    },
    "hidden": true
   },
   "outputs": [],
   "source": [
    "driver.get(\"https://www.fairprice.com.sg/recipes/fragrant-bitter-gourd-chicken/\")"
   ]
  },
  {
   "cell_type": "code",
   "execution_count": null,
   "metadata": {
    "ExecuteTime": {
     "end_time": "2020-02-01T15:27:36.392598Z",
     "start_time": "2020-02-01T15:27:36.327592Z"
    },
    "hidden": true
   },
   "outputs": [],
   "source": [
    "try:\n",
    "    src = driver.find_element_by_xpath(\"//div[@class='tp-video']/img\").get_attribute(\"src\")\n",
    "    image_url.append(src)\n",
    "    video_url.append(\"NA\")\n",
    "except:\n",
    "    src = driver.find_element_by_xpath(\"//div[@class='tp-video']/iframe\").get_attribute(\"src\")\n",
    "    image_url.append(\"NA\")\n",
    "    video_url.append(src)"
   ]
  },
  {
   "cell_type": "code",
   "execution_count": null,
   "metadata": {
    "ExecuteTime": {
     "end_time": "2020-02-01T15:27:42.773352Z",
     "start_time": "2020-02-01T15:27:42.766593Z"
    },
    "hidden": true
   },
   "outputs": [],
   "source": [
    "video_url"
   ]
  },
  {
   "cell_type": "code",
   "execution_count": null,
   "metadata": {
    "ExecuteTime": {
     "end_time": "2020-01-26T10:28:40.689797Z",
     "start_time": "2020-01-26T10:28:40.654706Z"
    },
    "hidden": true
   },
   "outputs": [],
   "source": [
    "recipename = driver.find_element_by_tag_name('h4').text"
   ]
  },
  {
   "cell_type": "code",
   "execution_count": null,
   "metadata": {
    "ExecuteTime": {
     "end_time": "2020-01-26T10:35:48.358731Z",
     "start_time": "2020-01-26T10:35:48.263494Z"
    },
    "hidden": true
   },
   "outputs": [],
   "source": [
    "all_units = driver.find_elements_by_tag_name('Strong')\n",
    "servings = all_units[0].text\n",
    "preptime = all_units[1].text\n",
    "level_of_difficulty = all_units[2].text"
   ]
  },
  {
   "cell_type": "code",
   "execution_count": null,
   "metadata": {
    "ExecuteTime": {
     "end_time": "2020-01-26T10:36:02.486689Z",
     "start_time": "2020-01-26T10:36:02.156001Z"
    },
    "hidden": true
   },
   "outputs": [],
   "source": [
    "for i in driver.find_elements_by_tag_name('Strong'):\n",
    "    print(i.text)"
   ]
  },
  {
   "cell_type": "code",
   "execution_count": null,
   "metadata": {
    "ExecuteTime": {
     "end_time": "2020-01-26T10:53:37.045557Z",
     "start_time": "2020-01-26T10:53:36.989204Z"
    },
    "hidden": true
   },
   "outputs": [],
   "source": [
    "for i in driver.find_elements_by_class_name('tp-product-left'):\n",
    "    ingredients = i.find_element_by_tag_name('p').text       "
   ]
  },
  {
   "cell_type": "code",
   "execution_count": null,
   "metadata": {
    "ExecuteTime": {
     "end_time": "2020-01-26T11:49:37.012062Z",
     "start_time": "2020-01-26T11:49:37.004501Z"
    },
    "hidden": true
   },
   "outputs": [],
   "source": [
    "instruction_temp = []\n",
    "if driver.find_elements_by_class_name('wpb_wrapper'):\n",
    "    for i in driver.find_elements_by_class_name('wpb_wrapper'):\n",
    "        #print(i.text)\n",
    "        for j in i.find_elements_by_tag_name('li'):\n",
    "            instruction_temp.append(j.text)\n",
    "elif driver.find_element_by_class_name('tp-product-right'):\n",
    "    print(driver.find_element_by_class_name('tp-product-right').text)\n",
    "else:\n",
    "    print(\"Next\")"
   ]
  },
  {
   "cell_type": "code",
   "execution_count": null,
   "metadata": {
    "ExecuteTime": {
     "end_time": "2020-01-26T11:47:09.981022Z",
     "start_time": "2020-01-26T11:47:09.973029Z"
    },
    "hidden": true
   },
   "outputs": [],
   "source": [
    "instruction_temp"
   ]
  },
  {
   "cell_type": "code",
   "execution_count": null,
   "metadata": {
    "ExecuteTime": {
     "end_time": "2020-01-26T10:51:32.081435Z",
     "start_time": "2020-01-26T10:51:32.071763Z"
    },
    "hidden": true
   },
   "outputs": [],
   "source": [
    "instruction_next = instruction_temp[0:int(len(instruction_temp)/2)] "
   ]
  },
  {
   "cell_type": "code",
   "execution_count": null,
   "metadata": {
    "ExecuteTime": {
     "end_time": "2020-01-26T10:51:32.111560Z",
     "start_time": "2020-01-26T10:51:32.088755Z"
    },
    "hidden": true
   },
   "outputs": [],
   "source": [
    "def listToString(s):  \n",
    "    str1 = \"\\n \" \n",
    "    return (str1.join(s)) \n",
    "        \n",
    "instruction = listToString(instruction_next)\n",
    "game"
   ]
  },
  {
   "cell_type": "markdown",
   "metadata": {
    "hidden": true
   },
   "source": [
    "### Image Test "
   ]
  },
  {
   "cell_type": "code",
   "execution_count": null,
   "metadata": {
    "ExecuteTime": {
     "end_time": "2020-02-01T15:20:09.784300Z",
     "start_time": "2020-02-01T15:20:08.420496Z"
    },
    "hidden": true
   },
   "outputs": [],
   "source": [
    "driver.get(\"https://www.fairprice.com.sg/recipes/chilli-crab/\")"
   ]
  },
  {
   "cell_type": "code",
   "execution_count": null,
   "metadata": {
    "ExecuteTime": {
     "end_time": "2020-02-01T15:20:10.465019Z",
     "start_time": "2020-02-01T15:20:10.420991Z"
    },
    "hidden": true
   },
   "outputs": [],
   "source": [
    "src = driver.find_element_by_xpath(\"//div[@class='tp-video']/img\").get_attribute(\"src\")"
   ]
  },
  {
   "cell_type": "code",
   "execution_count": null,
   "metadata": {
    "ExecuteTime": {
     "end_time": "2020-02-01T15:20:11.440114Z",
     "start_time": "2020-02-01T15:20:11.418118Z"
    },
    "hidden": true
   },
   "outputs": [],
   "source": [
    "src"
   ]
  },
  {
   "cell_type": "code",
   "execution_count": null,
   "metadata": {
    "ExecuteTime": {
     "end_time": "2020-02-01T08:02:47.217497Z",
     "start_time": "2020-02-01T08:02:47.072957Z"
    },
    "hidden": true
   },
   "outputs": [],
   "source": [
    "import requests\n",
    "\n",
    "url = src\n",
    "filename = url.split('/')[-1]\n",
    "r = requests.get(url, allow_redirects=True)\n",
    "open(filename, 'wb').write(r.content)"
   ]
  },
  {
   "cell_type": "code",
   "execution_count": null,
   "metadata": {
    "ExecuteTime": {
     "end_time": "2020-02-01T08:03:13.848027Z",
     "start_time": "2020-02-01T08:03:13.745186Z"
    },
    "hidden": true
   },
   "outputs": [],
   "source": [
    "import requests\n",
    "\n",
    "img_data = requests.get(src).content\n",
    "with open('image_name.png', 'wb') as handler:\n",
    "    handler.write(img_data)"
   ]
  },
  {
   "cell_type": "code",
   "execution_count": null,
   "metadata": {
    "ExecuteTime": {
     "end_time": "2020-02-01T08:03:37.185359Z",
     "start_time": "2020-02-01T08:03:37.102980Z"
    },
    "hidden": true
   },
   "outputs": [],
   "source": [
    "with open(basename(src), \"wb\") as f:\n",
    "    f.write(requests.get(src).content)"
   ]
  },
  {
   "cell_type": "code",
   "execution_count": null,
   "metadata": {
    "ExecuteTime": {
     "end_time": "2020-02-01T08:03:55.402330Z",
     "start_time": "2020-02-01T08:03:55.242481Z"
    },
    "hidden": true
   },
   "outputs": [],
   "source": [
    "import urllib\n",
    "urllib.request.urlretrieve(src, \"00000001.jpg\")"
   ]
  },
  {
   "cell_type": "code",
   "execution_count": null,
   "metadata": {
    "ExecuteTime": {
     "end_time": "2020-02-01T08:16:44.661275Z",
     "start_time": "2020-02-01T08:16:42.154570Z"
    },
    "hidden": true
   },
   "outputs": [],
   "source": [
    "driver.get(src)\n",
    "filename = url.split('/')[-1]\n",
    "driver.save_screenshot(filename)"
   ]
  },
  {
   "cell_type": "markdown",
   "metadata": {
    "hidden": true
   },
   "source": [
    "### Video Test  "
   ]
  },
  {
   "cell_type": "code",
   "execution_count": null,
   "metadata": {
    "ExecuteTime": {
     "end_time": "2020-02-01T09:08:00.807236Z",
     "start_time": "2020-02-01T09:07:59.420240Z"
    },
    "hidden": true
   },
   "outputs": [],
   "source": [
    "driver.get(\"https://www.fairprice.com.sg/recipes/fragrant-bitter-gourd-chicken/\")"
   ]
  },
  {
   "cell_type": "code",
   "execution_count": null,
   "metadata": {
    "ExecuteTime": {
     "end_time": "2020-02-01T09:07:48.617599Z",
     "start_time": "2020-02-01T09:07:48.469589Z"
    },
    "hidden": true
   },
   "outputs": [],
   "source": [
    "for i in driver.find_elements_by_partial_link_text(\"youtube\"):\n",
    "    print(i)"
   ]
  },
  {
   "cell_type": "code",
   "execution_count": null,
   "metadata": {
    "ExecuteTime": {
     "end_time": "2020-02-01T09:08:03.102904Z",
     "start_time": "2020-02-01T09:08:02.448183Z"
    },
    "hidden": true
   },
   "outputs": [],
   "source": [
    "driver.find_elements_by_partial_link_text(\"youtu\")"
   ]
  },
  {
   "cell_type": "code",
   "execution_count": null,
   "metadata": {
    "ExecuteTime": {
     "end_time": "2020-02-01T09:10:20.387566Z",
     "start_time": "2020-02-01T09:10:20.324703Z"
    },
    "hidden": true
   },
   "outputs": [],
   "source": [
    "driver.find_element_by_xpath(\"//div[@class='tp-video']/iframe\").get_attribute(\"src\")"
   ]
  },
  {
   "cell_type": "code",
   "execution_count": null,
   "metadata": {
    "hidden": true
   },
   "outputs": [],
   "source": []
  },
  {
   "cell_type": "code",
   "execution_count": null,
   "metadata": {
    "hidden": true
   },
   "outputs": [],
   "source": []
  },
  {
   "cell_type": "code",
   "execution_count": null,
   "metadata": {
    "hidden": true
   },
   "outputs": [],
   "source": []
  },
  {
   "cell_type": "code",
   "execution_count": null,
   "metadata": {
    "hidden": true
   },
   "outputs": [],
   "source": []
  },
  {
   "cell_type": "code",
   "execution_count": null,
   "metadata": {
    "hidden": true
   },
   "outputs": [],
   "source": []
  }
 ],
 "metadata": {
  "kernelspec": {
   "display_name": "Python 3",
   "language": "python",
   "name": "python3"
  },
  "language_info": {
   "codemirror_mode": {
    "name": "ipython",
    "version": 3
   },
   "file_extension": ".py",
   "mimetype": "text/x-python",
   "name": "python",
   "nbconvert_exporter": "python",
   "pygments_lexer": "ipython3",
   "version": "3.7.4"
  },
  "toc": {
   "base_numbering": 1,
   "nav_menu": {},
   "number_sections": true,
   "sideBar": true,
   "skip_h1_title": false,
   "title_cell": "Table of Contents",
   "title_sidebar": "Contents",
   "toc_cell": false,
   "toc_position": {
    "height": "calc(100% - 180px)",
    "left": "10px",
    "top": "150px",
    "width": "168.594px"
   },
   "toc_section_display": true,
   "toc_window_display": true
  }
 },
 "nbformat": 4,
 "nbformat_minor": 2
}
