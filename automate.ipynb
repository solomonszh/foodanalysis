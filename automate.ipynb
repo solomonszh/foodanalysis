{
 "cells": [
  {
   "cell_type": "markdown",
   "metadata": {
    "colab_type": "text",
    "id": "cXKou9h6fTPq"
   },
   "source": [
    "Sharefood scraping"
   ]
  },
  {
   "cell_type": "code",
   "execution_count": 0,
   "metadata": {
    "colab": {},
    "colab_type": "code",
    "id": "v167IYFq1pTP"
   },
   "outputs": [],
   "source": [
    "headers = {'User-Agent': 'Mozilla/5.0 (Windows NT 6.1) AppleWebKit/537.36 (KHTML, like Gecko) Chrome/41.0.2228.0 Safari/537.3'}\n",
    "urllist = []\n",
    "url = \"https://www.sharefood.sg/\"\n",
    "response = get(url, headers = headers)\n",
    "html_soup = BeautifulSoup(response.text, 'html.parser')\n",
    "data = html_soup.find('div', class_ = 'penci-mega-child-categories')\n",
    "urls = data.find_all('a')\n",
    "for u in urls[3:]:\n",
    "  urllist.append(u.get('href'))"
   ]
  },
  {
   "cell_type": "code",
   "execution_count": 0,
   "metadata": {
    "colab": {
     "base_uri": "https://localhost:8080/",
     "height": 122
    },
    "colab_type": "code",
    "id": "DC4I02sY5HNp",
    "outputId": "00dbf16d-0dd9-4cb2-c278-1e8a593de644"
   },
   "outputs": [
    {
     "name": "stdout",
     "output_type": "stream",
     "text": [
      "Collecting xlsxwriter\n",
      "\u001b[?25l  Downloading https://files.pythonhosted.org/packages/82/50/780122e4790328c195475d6e49a07fb69593508355dfee98bfb22686d9e8/XlsxWriter-1.2.1-py2.py3-none-any.whl (140kB)\n",
      "\u001b[K     |████████████████████████████████| 143kB 9.8MB/s \n",
      "\u001b[?25hInstalling collected packages: xlsxwriter\n",
      "Successfully installed xlsxwriter-1.2.1\n"
     ]
    }
   ],
   "source": [
    "!pip install xlsxwriter"
   ]
  },
  {
   "cell_type": "code",
   "execution_count": 0,
   "metadata": {
    "colab": {},
    "colab_type": "code",
    "id": "Pg3Dlft1ybuU"
   },
   "outputs": [],
   "source": [
    "from requests import get\n",
    "from bs4 import BeautifulSoup\n",
    "import pandas as pd\n",
    "import xlsxwriter\n",
    "import re\n",
    "from openpyxl import load_workbook\n",
    "from datetime import datetime\n",
    "\n",
    "\n",
    "headers = {'User-Agent': 'Mozilla/5.0 (Windows NT 6.1) AppleWebKit/537.36 (KHTML, like Gecko) Chrome/41.0.2228.0 Safari/537.3'}\n",
    "url_list,name_list, cuisine_list,servings,date_list, prep_list,cook_list,inst_list,main_ing = ([] for i in range(9))\n",
    "for url in urllist:\n",
    "    response = get(url, headers = headers)\n",
    "    html_soup = BeautifulSoup(response.text, 'html.parser')\n",
    "    data = html_soup.find_all('h2', class_ = 'entry-title grid-title')\n",
    "    for d in data:\n",
    "        url = d.find('a').get('href')\n",
    "        match = re.search(r'\\d{4}/\\d{2}/\\d{2}', url)\n",
    "        date = datetime.strptime(match.group(), '%Y/%m/%d').date()\n",
    "        if(date.year >= 2019):\n",
    "          url_list.append(url)\n",
    "          date_list.append(date)\n",
    "          response = get(url, headers = headers)\n",
    "          html_soup = BeautifulSoup(response.text, 'html.parser')\n",
    "          recipe_name = html_soup.find('span',class_ = 'wpurp-recipe-title')\n",
    "          if(recipe_name is not None):\n",
    "              name_list.append(recipe_name.get_text())\n",
    "          else:\n",
    "              name_list.append(\"NA\")\n",
    "          cuisine = html_soup.find('span',class_= 'wpurp-recipe-tag-terms')\n",
    "          if(cuisine is not None):\n",
    "              cuisine_list.append(cuisine.get_text())\n",
    "          else:\n",
    "              cuisine_list.append(\"NA\")\n",
    "          p = html_soup.find('span',class_ = 'wpurp-recipe-servings')\n",
    "          if(p is not None):\n",
    "              type = html_soup.find('span',class_ = 'wpurp-recipe-servings-type')\n",
    "              servings.append(p.get_text() + type.get_text())\n",
    "          else:\n",
    "              servings.append(\"NA\")\n",
    "          prep_time = html_soup.find('span',class_= 'wpurp-recipe-prep-time')\n",
    "          if(prep_time is not None):\n",
    "              time_text = html_soup.find('span',class_ = 'wpurp-recipe-prep-time-text').get_text()\n",
    "              prep_list.append(prep_time.get_text() + time_text)\n",
    "          else:\n",
    "              prep_list.append(\"NA\")\n",
    "          cook_time = html_soup.find('span', class_ = 'wpurp-recipe-cook-time')\n",
    "          if(cook_time is not None):\n",
    "              cooktime_text = html_soup.find('span', class_ = 'wpurp-recipe-cook-time-text').get_text()\n",
    "              cook_list.append(cook_time.get_text() + cooktime_text)\n",
    "          else:\n",
    "              cook_list.append(\"NA\")\n",
    "          ingredients_group = html_soup.find_all('div', class_ = 'wpurp-recipe-ingredient-group-container')\n",
    "          ing_list = []\n",
    "          for ing_group in ingredients_group:\n",
    "            group = ing_group.find('span', class_ = 'wpurp-recipe-ingredient-group')\n",
    "            if(group is not None):\n",
    "              group = group.get_text()\n",
    "            else:\n",
    "              group = \"\"\n",
    "            ingredients = ing_group.find('ul', class_ = 'wpurp-recipe-ingredient-container')\n",
    "            if(ingredients is not None):\n",
    "                    ing = ingredients.find_all('li')\n",
    "                    for each in ing:\n",
    "                      ing_name = each.find('span',class_ = 'wpurp-recipe-ingredient-name').get_text()\n",
    "                      ing_name.replace('-','')\n",
    "                      ing_quantity = each.find('span',class_ = 'wpurp-recipe-ingredient-quantity')\n",
    "                      if(ing_quantity is not None):\n",
    "                        ing_quantity = ing_quantity.get_text()\n",
    "                      else:\n",
    "                        ing_quantity = \"\"\n",
    "                      ing_unit = each.find('span',class_ = 'wpurp-recipe-ingredient-unit')\n",
    "                      if(ing_unit is not None):\n",
    "                        ing_unit = ing_unit.get_text()\n",
    "                      else:\n",
    "                        ing_unit = \"\"\n",
    "                      ing_notes = each.find('span', class_ = 'wpurp-recipe-ingredient-notes')\n",
    "                      if(ing_notes is not None):\n",
    "                        ing_notes = ing_notes.get_text()\n",
    "                        ing_notes.replace('-','')\n",
    "                        ing_list.append(group+\"-\"+ ing_quantity+\"-\"+ing_unit+\"-\"+ing_name +\"-\"+ ing_notes)\n",
    "                      else:\n",
    "                        ing_list.append(group+\"-\"+ ing_quantity+\"-\"+ing_unit+\"-\"+ing_name +\"-\")\n",
    "            else:\n",
    "              ing_list.append(\"NA\")\n",
    "          main_ing.append(ing_list)\n",
    "          instructions = html_soup.find('ol',class_ = 'wpurp-recipe-instruction-container')\n",
    "          if(instructions is not None):\n",
    "              inst_list.append(instructions.get_text().strip())\n",
    "          else:\n",
    "              inst_list.append(\"NA\")\n",
    "df = pd.DataFrame({'url':url_list,\n",
    "                      'date':date_list,\n",
    "                      'recipename':name_list,\n",
    "                      'cuisine':cuisine_list,\n",
    "                      'servings':servings,\n",
    "                      'preptime':prep_list,\n",
    "                      'cookingtime':cook_list,\n",
    "                      'ingredients':main_ing,\n",
    "                      'instructions':inst_list})\n",
    "# writer = pd.ExcelWriter('output.xlsx',engine='xlsxwriter',options={'strings_to_urls': False})\n",
    "# df.to_excel(writer,'Sheet1')\n",
    "# writer.save()"
   ]
  },
  {
   "cell_type": "code",
   "execution_count": 0,
   "metadata": {
    "colab": {
     "base_uri": "https://localhost:8080/",
     "height": 377
    },
    "colab_type": "code",
    "id": "Y812aRCFzWdu",
    "outputId": "2c8afaa6-bc3f-45f8-b657-ab5346a9a8ec"
   },
   "outputs": [
    {
     "name": "stderr",
     "output_type": "stream",
     "text": [
      "/usr/local/lib/python3.6/dist-packages/ipykernel_launcher.py:4: SettingWithCopyWarning: \n",
      "A value is trying to be set on a copy of a slice from a DataFrame\n",
      "\n",
      "See the caveats in the documentation: http://pandas.pydata.org/pandas-docs/stable/indexing.html#indexing-view-versus-copy\n",
      "  after removing the cwd from sys.path.\n",
      "/usr/local/lib/python3.6/dist-packages/ipykernel_launcher.py:5: SettingWithCopyWarning: \n",
      "A value is trying to be set on a copy of a slice from a DataFrame\n",
      "\n",
      "See the caveats in the documentation: http://pandas.pydata.org/pandas-docs/stable/indexing.html#indexing-view-versus-copy\n",
      "  \"\"\"\n",
      "/usr/local/lib/python3.6/dist-packages/ipykernel_launcher.py:6: SettingWithCopyWarning: \n",
      "A value is trying to be set on a copy of a slice from a DataFrame\n",
      "\n",
      "See the caveats in the documentation: http://pandas.pydata.org/pandas-docs/stable/indexing.html#indexing-view-versus-copy\n",
      "  \n",
      "/usr/local/lib/python3.6/dist-packages/ipykernel_launcher.py:7: SettingWithCopyWarning: \n",
      "A value is trying to be set on a copy of a slice from a DataFrame\n",
      "\n",
      "See the caveats in the documentation: http://pandas.pydata.org/pandas-docs/stable/indexing.html#indexing-view-versus-copy\n",
      "  import sys\n"
     ]
    }
   ],
   "source": [
    "import pandas as pd\n",
    "for i in df.index:\n",
    "  df['ingredients'][i] = df['ingredients'][i].replace(',','\\n')\n",
    "  df['ingredients'][i] = df['ingredients'][i].replace(\"'\",'')\n",
    "  df['ingredients'][i] = df['ingredients'][i].replace('[','')\n",
    "  df['ingredients'][i] = df['ingredients'][i].replace(']','')\n",
    "df.to_csv ('output2.csv', index = None, header=True)"
   ]
  },
  {
   "cell_type": "markdown",
   "metadata": {
    "colab_type": "text",
    "id": "WdcYamQTHNJw"
   },
   "source": [
    "Check allergies"
   ]
  },
  {
   "cell_type": "code",
   "execution_count": 0,
   "metadata": {
    "colab": {},
    "colab_type": "code",
    "id": "ryMvbO_NHKkj"
   },
   "outputs": [],
   "source": [
    "allergies = {\n",
    "    1: [\"beef\",\"beef rib\",\"worcestershire sauce\"],\n",
    "    2: [\"Milk\",\"Butter\",\"Cheese\",\"Cream\",\"Yogurt\",\"Custard\",\"Curd\",\"Paneer\",\"Ghee\",\"So (jap)\",\"Whey\",\"Yakult\",\"Chocolate\",\"Margarine\",\"Horseradish Sauce\",\"Mayo\"],\n",
    "    3: [\"Egg\",\"Egg Yolk\",\"Egg White\",\"Pasta\",\"Mayonnaise\",\"Custard\",\"Mayo\"],\n",
    "    4: [\"Wheat flour\",\"All purpose flour\",\"all-purpose-flour\",\"Lo Mein\",\"Stir Fry Sauce\",\"Udon\",\"Ramen\",\"imitation crab\",\"Wanton noodles\",\"Miso paste\",\"Miso\",\"Plum sauce\",\"Yakisoba\",\"Wasabi\",\"Oats\",\"Broth\",\"Soy sauce\",\"Teriyaki sauce\",\"Maltose\",\"Fu\",\"Hoisin sauce\",\"Oyster sauce\",\"Shaoxing wine\",\"Ketchup\",\"Mayonnaise\",\"Seitan\",\"Roasted nuts\",\"Knorr\",\"Maggi Seasoning sauce\",\"Chicken stock powder\",\"Malt vinegar\",\"Vodka\",\"Ebelskiver mix\" ,\"Korean red pepper paste (gochuchang)\"],\n",
    "    5: [\"Soy bean\",\"soya bean\", \"Almond\",\"Brazil nut\",\"Peanut\",\"Cashew\",\"Chestnut\",\"Hazelnut\",\"Macadamia nut\",\"Pecan\",\"Pistachio\",\"Shea nut\",\"Walnut\",\"Pesto\",\"Coconut\",\"Gingko nut\",\"Hickory nut\",\"Pine nut\",\"Nangai nut\",\"Knorr seasoning\",\"beer nut\",\"Belgian ale\",\"brazil nut\", \"chop nut\",\"cocktail peanut\", \"ginkgo nut\",\"grand marnier\",\"roundnut\",\"hazelnut\",\"macadamia nut\",\"butter\",\"nutmeg\",\"pecan\",\"pine nut\",\"pistachio\",\"Planters Cocktail Peanut\",\"red skin peanut\",\"tamari almond\",\"trail mix\",\"unsalted sunflower seed\",\"walnut\"],\n",
    "    6: [\"Gelatin\",\"Pork\" ,\"Lard\",\"Ham\",\"Bacon\",\"Cooking fat\",\"pork rib\"],\n",
    "    7: [\"abalone\",\"banana prawn\",\"bay scallop\",\"bay shrimp\",\"blood cockle\",\"calamari ring\",\"calamari steak\", \"clam\",\"cockle\",\"crab\",\"crawfish\",\"cuttlefish\",\"dashima\",\"shrimp\",\"bonito\", \"cuttlefish\",\"kelp\",\"kombu\",\"lobster\" ,\"mussels\", \"oyster\", \"rock lobster\", \"scallop\",\"scallopini\",\"scampi\",\"shellfish\",\"albacore tuna\",\"Fish sauce\",\"Fish paste\", \"Clams\",\"Squid\",\"Mussels\",\"Prawns\",\"Sea urchin\",\"Limpet\",\"Octopus\",\"Snails\",\"Surimi\",\"Langoustine\",\"Sambal goreng paste\"],\n",
    "    8: [\"Hoisin sauce\",\"Stir Fry Sauce\",\"Oyster sauce\",\"Douchi\",\"Tamari\",\"Teriyaki sauce\",\"Miso\",\"Lao Gan Ma\",\"Bean curd\",\"chai pow yu\", \"tofu\",\"doufu\",\"egg substitute\",\"Ener-G Egg Replacer\",\"imitation crab\",\"meat substitute\",\"quorn\",\"Quorn Chik''n Tender\",\"Quorn fillet\", \"soy bean\", \"soy\", \"yogurt\",\"soya bean\",\"soybean paste\",\"soynut\", \"tau kwa\",\"tempeh\",\"tvp\",\"vegetarian beef\",\"veggie sausage\",\"yuba\",\"tau pok\"],\n",
    "    9: [\"Gula melaka\",\"Curry paste\",\"Sugar\",\"Sambal goreng paste\",\"Ketchup\",\"BBQ Sauce\",\"Sriracha\",\"Sweet\",\"Hoisin\" ,\"Teriyaki\",\"Balsamic Vinegar\"]\n",
    "}"
   ]
  },
  {
   "cell_type": "code",
   "execution_count": 0,
   "metadata": {
    "colab": {},
    "colab_type": "code",
    "id": "8PBReVpHHo2K"
   },
   "outputs": [],
   "source": [
    "#converting ingredients to lowercase\n",
    "def recipe_lowercase():\n",
    "  import pandas as pd\n",
    "  fields = ['ingredients']\n",
    "  df = pd.read_csv('output2.csv',usecols = fields)\n",
    "  return df"
   ]
  },
  {
   "cell_type": "code",
   "execution_count": 0,
   "metadata": {
    "colab": {},
    "colab_type": "code",
    "id": "YsXjP--sHzuD"
   },
   "outputs": [],
   "source": [
    "#converting allergies to lowercase\n",
    "newdict = {}\n",
    "for key, value in allergies.items():\n",
    "  newdict[key] = [v.lower() for v in value]"
   ]
  },
  {
   "cell_type": "code",
   "execution_count": 0,
   "metadata": {
    "colab": {},
    "colab_type": "code",
    "id": "I9v6M_2DH5y9"
   },
   "outputs": [],
   "source": [
    "#final check once\n",
    "import pandas as pd\n",
    "from collections import defaultdict\n",
    "\n",
    "dict1 = defaultdict(list)\n",
    "df = recipe_lowercase()\n",
    "for i in range(len(df)):\n",
    "  flag = 0\n",
    "  for key, value in newdict.items():\n",
    "    if (pd.notna(df['ingredients'][i])):\n",
    "      if any (v in df['ingredients'][i] for v in value):\n",
    "        flag = 1\n",
    "        dict1[i].append(key)\n",
    "      else:\n",
    "        dict1[i].append(\"NA\")\n",
    "    else:\n",
    "      dict1[i].append(\"NA\")\n",
    "allergies_list = list(dict1.values())\n",
    "print(allergies_list)"
   ]
  },
  {
   "cell_type": "code",
   "execution_count": 0,
   "metadata": {
    "colab": {},
    "colab_type": "code",
    "id": "SKDVN9tHwQkk"
   },
   "outputs": [],
   "source": []
  },
  {
   "cell_type": "markdown",
   "metadata": {
    "colab_type": "text",
    "id": "8Tb0-CsiwRCR"
   },
   "source": [
    "Check kitchen equipment"
   ]
  },
  {
   "cell_type": "code",
   "execution_count": 0,
   "metadata": {
    "colab": {},
    "colab_type": "code",
    "id": "HngZHzzBwUbc"
   },
   "outputs": [],
   "source": [
    "equip = {\n",
    "    1: \"microwave\",\n",
    "    2: \"oven\",\n",
    "    3: \"blender\",\n",
    "    4: \"rice cooker\",\n",
    "    5: \"slow cooker\",\n",
    "    6: \"steamer\",\n",
    "    7: \"food processor\",\n",
    "}"
   ]
  },
  {
   "cell_type": "code",
   "execution_count": 0,
   "metadata": {
    "colab": {},
    "colab_type": "code",
    "id": "TFGZe1hcxBcp"
   },
   "outputs": [],
   "source": [
    "#converting recipes to lowercase, can be used in cooking method as well\n",
    "def recipe_lowercase():\n",
    "  import pandas as pd\n",
    "  df1 = []\n",
    "  df = pd.read_excel('yoripe_25sept.xlsx', sheet_name = 'Yoripe', usecols = 'I')\n",
    "  for i in df.index:\n",
    "    df1.append(df['instructions'][i])\n",
    "  return df1"
   ]
  },
  {
   "cell_type": "code",
   "execution_count": 0,
   "metadata": {
    "colab": {},
    "colab_type": "code",
    "id": "OCpbSBxkwdzi"
   },
   "outputs": [],
   "source": [
    "import pandas as pd\n",
    "from collections import defaultdict\n",
    "\n",
    "newdict = defaultdict(list)\n",
    "df = recipe_lowercase()\n",
    "for i in range(len(df)):\n",
    "  flag = 0\n",
    "  for key, value in equip.items():\n",
    "    if (pd.notna(df[i])):\n",
    "      if value not in df[i]:\n",
    "        newdict[i].append(\"NA\")\n",
    "      else:\n",
    "        flag = 1\n",
    "        newdict[i].append(key) \n",
    "    else:\n",
    "      newdict[i].append(\"NA\")\n",
    "print (newdict)"
   ]
  },
  {
   "cell_type": "markdown",
   "metadata": {
    "colab_type": "text",
    "id": "vRtRYgp-wmej"
   },
   "source": [
    "check cooking method"
   ]
  },
  {
   "cell_type": "code",
   "execution_count": 0,
   "metadata": {
    "colab": {},
    "colab_type": "code",
    "id": "IEKroHHiwfgz"
   },
   "outputs": [],
   "source": [
    "method = {\n",
    "    1 :[\"stir-fry\", \"stir fry\"],\n",
    "    2: [\"pan-fry\", \"pan fry\"],\n",
    "    3: [\"deep-fry\",\"deep fry\"],\n",
    "    4: \"boil\",\n",
    "    5: \"roast\",\n",
    "    6: \"bake\",\n",
    "    7:  \"boil\",\n",
    "    8: \"steam\", \n",
    "    9: \"grill\",\n",
    "    10: \"braise\",\n",
    "    11:\"poach\",\n",
    "    12: \"sear\",\n",
    "    13: [\"saute\", \"sauté\"],\n",
    "    14: \"microwave\",\n",
    "    15: \"stew\",\n",
    "    16: \"blanch\",\n",
    "    17: \"simmer\",\n",
    "}"
   ]
  },
  {
   "cell_type": "code",
   "execution_count": 0,
   "metadata": {
    "colab": {},
    "colab_type": "code",
    "id": "3oAyAyaNw2bo"
   },
   "outputs": [],
   "source": [
    "#final check once\n",
    "import pandas as pd\n",
    "from collections import defaultdict\n",
    "\n",
    "newdict = defaultdict(list)\n",
    "df = recipe_lowercase()\n",
    "print (df)\n",
    "for i in range(len(df)):\n",
    "  flag = 0\n",
    "  for key, value in method.items():\n",
    "    if (pd.notna(df[i])):\n",
    "      if isinstance(value, list):\n",
    "        if any (v in df[i] for v in value):\n",
    "          flag = 1\n",
    "          newdict[i].append(key)\n",
    "      elif (value in df[i]):\n",
    "          flag = 1\n",
    "          newdict[i].append(key)\n",
    "      else:\n",
    "        newdict[i].append(\"NA\")\n",
    "    else:\n",
    "      newdict[i].append(\"NA\")\n",
    "print (newdict)\n",
    "  "
   ]
  }
 ],
 "metadata": {
  "colab": {
   "name": "automate.ipynb",
   "provenance": []
  },
  "kernelspec": {
   "display_name": "Python 3",
   "language": "python",
   "name": "python3"
  },
  "language_info": {
   "codemirror_mode": {
    "name": "ipython",
    "version": 3
   },
   "file_extension": ".py",
   "mimetype": "text/x-python",
   "name": "python",
   "nbconvert_exporter": "python",
   "pygments_lexer": "ipython3",
   "version": "3.7.4"
  },
  "toc": {
   "base_numbering": 1,
   "nav_menu": {},
   "number_sections": true,
   "sideBar": true,
   "skip_h1_title": false,
   "title_cell": "Table of Contents",
   "title_sidebar": "Contents",
   "toc_cell": false,
   "toc_position": {},
   "toc_section_display": true,
   "toc_window_display": true
  }
 },
 "nbformat": 4,
 "nbformat_minor": 1
}
